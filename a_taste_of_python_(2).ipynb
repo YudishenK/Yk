{
  "cells": [
    {
      "cell_type": "markdown",
      "metadata": {
        "id": "view-in-github",
        "colab_type": "text"
      },
      "source": [
        "<a href=\"https://colab.research.google.com/github/YudishenK/Yk/blob/main/a_taste_of_python_(2).ipynb\" target=\"_parent\"><img src=\"https://colab.research.google.com/assets/colab-badge.svg\" alt=\"Open In Colab\"/></a>"
      ]
    },
    {
      "cell_type": "markdown",
      "id": "990c534e-ee5b-4406-ac98-d3357f3bd7ec",
      "metadata": {
        "id": "990c534e-ee5b-4406-ac98-d3357f3bd7ec"
      },
      "source": [
        "# A Taste of Python\n",
        "\n",
        "Computers do two things really well. ***Store values*** and ***perform operations*** on those values\n",
        "\n",
        "You might think they’re doing a whole lot more, as you send texts, shop online, or rely on your phone to navigate in your car; however, everything computers do can be broken down into simple operations that are performed on simple values.\n",
        "\n",
        "Now, part of computational thinking is learning to use these operations and values to build something that is much more sophisticated, complex, and meaningful—and we’re going to get to that. \n",
        "\n",
        "First, though, we’re going to take a look at what these values are, the operations you can perform on them, and just what role variables play in all this.\n",
        "\n",
        "# Store Values\n",
        "\n",
        "### What is a value?\n",
        "\n",
        "Because programs are written to process data, you must have a good understanding of the nature and structure of the data being processed.\n",
        "\n",
        "Data within a program may be a single value, such as a number.  In the cell below try some different numbers, say 123, or 31.7."
      ]
    },
    {
      "cell_type": "code",
      "execution_count": null,
      "id": "a3506a0d-e007-45b1-920f-d499033baf9f",
      "metadata": {
        "colab": {
          "base_uri": "https://localhost:8080/"
        },
        "id": "a3506a0d-e007-45b1-920f-d499033baf9f",
        "outputId": "9f5c273e-ed4f-4458-8302-6f4036c35f5c"
      },
      "outputs": [
        {
          "output_type": "execute_result",
          "data": {
            "text/plain": [
              "123"
            ]
          },
          "metadata": {},
          "execution_count": 1
        }
      ],
      "source": [
        "123"
      ]
    },
    {
      "cell_type": "code",
      "source": [
        "31.7"
      ],
      "metadata": {
        "colab": {
          "base_uri": "https://localhost:8080/"
        },
        "id": "QY54Zjyzz_WH",
        "outputId": "1bd2a168-6c71-4943-e845-e5d7a6a043d1"
      },
      "id": "QY54Zjyzz_WH",
      "execution_count": null,
      "outputs": [
        {
          "output_type": "execute_result",
          "data": {
            "text/plain": [
              "31.7"
            ]
          },
          "metadata": {},
          "execution_count": 2
        }
      ]
    },
    {
      "cell_type": "markdown",
      "id": "7e26a95d-228d-41e5-8c4e-895765bc23f7",
      "metadata": {
        "id": "7e26a95d-228d-41e5-8c4e-895765bc23f7"
      },
      "source": [
        "Data within a program may be a single value, such as a character.  Are the quotes important? Is 'A' different from 'a'?"
      ]
    },
    {
      "cell_type": "code",
      "execution_count": null,
      "id": "cbd8c919-9732-4f5d-9b82-9209aff137f6",
      "metadata": {
        "colab": {
          "base_uri": "https://localhost:8080/",
          "height": 34
        },
        "id": "cbd8c919-9732-4f5d-9b82-9209aff137f6",
        "outputId": "99eae979-1680-4f7e-d272-91346d3120e2"
      },
      "outputs": [
        {
          "output_type": "execute_result",
          "data": {
            "text/plain": [
              "'A'"
            ],
            "application/vnd.google.colaboratory.intrinsic+json": {
              "type": "string"
            }
          },
          "metadata": {},
          "execution_count": 3
        }
      ],
      "source": [
        "'A'"
      ]
    },
    {
      "cell_type": "code",
      "source": [
        "'a'"
      ],
      "metadata": {
        "colab": {
          "base_uri": "https://localhost:8080/",
          "height": 34
        },
        "id": "LTxSNtm80Eh3",
        "outputId": "2f453eca-60b7-417a-f400-c467de77e568"
      },
      "id": "LTxSNtm80Eh3",
      "execution_count": null,
      "outputs": [
        {
          "output_type": "execute_result",
          "data": {
            "text/plain": [
              "'a'"
            ],
            "application/vnd.google.colaboratory.intrinsic+json": {
              "type": "string"
            }
          },
          "metadata": {},
          "execution_count": 4
        }
      ]
    },
    {
      "cell_type": "code",
      "source": [
        "\"A\""
      ],
      "metadata": {
        "colab": {
          "base_uri": "https://localhost:8080/",
          "height": 34
        },
        "id": "X02bJjCn0F53",
        "outputId": "be646e04-2bbd-46eb-874d-eaf608a6e3e7"
      },
      "id": "X02bJjCn0F53",
      "execution_count": null,
      "outputs": [
        {
          "output_type": "execute_result",
          "data": {
            "text/plain": [
              "'A'"
            ],
            "application/vnd.google.colaboratory.intrinsic+json": {
              "type": "string"
            }
          },
          "metadata": {},
          "execution_count": 5
        }
      ]
    },
    {
      "cell_type": "markdown",
      "id": "d6583eb9-8381-4de7-b70a-3da9bae50b5b",
      "metadata": {
        "id": "d6583eb9-8381-4de7-b70a-3da9bae50b5b"
      },
      "source": [
        "Data within a program may be a single value, such as true or false.  In programming we call the a booloean value, sometimes abbreviated as bool."
      ]
    },
    {
      "cell_type": "code",
      "execution_count": null,
      "id": "e222c1a7-963f-4ab7-8d95-02fead45cc14",
      "metadata": {
        "colab": {
          "base_uri": "https://localhost:8080/",
          "height": 165
        },
        "id": "e222c1a7-963f-4ab7-8d95-02fead45cc14",
        "outputId": "710ce9c1-f46e-4e5e-fcba-d84af67a3c9f"
      },
      "outputs": [
        {
          "output_type": "error",
          "ename": "NameError",
          "evalue": "ignored",
          "traceback": [
            "\u001b[0;31m---------------------------------------------------------------------------\u001b[0m",
            "\u001b[0;31mNameError\u001b[0m                                 Traceback (most recent call last)",
            "\u001b[0;32m<ipython-input-6-724ba28f4a9a>\u001b[0m in \u001b[0;36m<module>\u001b[0;34m()\u001b[0m\n\u001b[0;32m----> 1\u001b[0;31m \u001b[0mtrue\u001b[0m\u001b[0;34m\u001b[0m\u001b[0;34m\u001b[0m\u001b[0m\n\u001b[0m",
            "\u001b[0;31mNameError\u001b[0m: name 'true' is not defined"
          ]
        }
      ],
      "source": [
        "true"
      ]
    },
    {
      "cell_type": "code",
      "source": [
        "True\n",
        "123\n",
        "31.7\n",
        "'A'"
      ],
      "metadata": {
        "colab": {
          "base_uri": "https://localhost:8080/",
          "height": 34
        },
        "id": "ZaHp1Y7l0Ory",
        "outputId": "83b8da60-ceaf-4684-f209-98950e2696dd"
      },
      "id": "ZaHp1Y7l0Ory",
      "execution_count": null,
      "outputs": [
        {
          "output_type": "execute_result",
          "data": {
            "text/plain": [
              "'A'"
            ],
            "application/vnd.google.colaboratory.intrinsic+json": {
              "type": "string"
            }
          },
          "metadata": {},
          "execution_count": 7
        }
      ]
    },
    {
      "cell_type": "markdown",
      "id": "6b5fad28-f83e-4071-8c07-b682f0f8a378",
      "metadata": {
        "id": "6b5fad28-f83e-4071-8c07-b682f0f8a378"
      },
      "source": [
        "Data within a program may be a group items such as a list.  The list could contian the same or different type of values."
      ]
    },
    {
      "cell_type": "code",
      "execution_count": null,
      "id": "45204b84-3142-48dc-bb82-15d07ac5bcb5",
      "metadata": {
        "colab": {
          "base_uri": "https://localhost:8080/"
        },
        "id": "45204b84-3142-48dc-bb82-15d07ac5bcb5",
        "outputId": "d2fd466f-5b16-4d09-c094-aaa4158df8a4"
      },
      "outputs": [
        {
          "output_type": "execute_result",
          "data": {
            "text/plain": [
              "[1, 2, 3, 4, 5, 16, 200, 300, '2']"
            ]
          },
          "metadata": {},
          "execution_count": 8
        }
      ],
      "source": [
        "[1,2,3,4,5,16,200,300,'2']"
      ]
    },
    {
      "cell_type": "code",
      "source": [
        ""
      ],
      "metadata": {
        "id": "VBb2SCCg0hu7"
      },
      "id": "VBb2SCCg0hu7",
      "execution_count": null,
      "outputs": []
    },
    {
      "cell_type": "markdown",
      "id": "5f4d9675-4fac-43f3-a786-e2d82ebd3d3c",
      "metadata": {
        "id": "5f4d9675-4fac-43f3-a786-e2d82ebd3d3c"
      },
      "source": [
        "Data within a program may be a group items such as a string. "
      ]
    },
    {
      "cell_type": "code",
      "execution_count": null,
      "id": "a04eb2f0-4f59-47ea-9556-3cba1c88ac1c",
      "metadata": {
        "colab": {
          "base_uri": "https://localhost:8080/",
          "height": 34
        },
        "id": "a04eb2f0-4f59-47ea-9556-3cba1c88ac1c",
        "outputId": "025dff10-a8af-4c85-c409-7d94bfb37efe"
      },
      "outputs": [
        {
          "output_type": "execute_result",
          "data": {
            "text/plain": [
              "'one,two,three'"
            ],
            "application/vnd.google.colaboratory.intrinsic+json": {
              "type": "string"
            }
          },
          "metadata": {},
          "execution_count": 10
        }
      ],
      "source": [
        "'one,two,three'"
      ]
    },
    {
      "cell_type": "markdown",
      "id": "f00208cc-adc9-4a36-92b4-1d54f08c3d7a",
      "metadata": {
        "id": "f00208cc-adc9-4a36-92b4-1d54f08c3d7a"
      },
      "source": [
        "Is there a way to determine the type of an item is? In Python we have a the *type()* function. In the cell below, find out the type of  3, 3.0, '3', '3.0'  and [3, 3.0,'3', '3.0'].\n",
        "> We are going to use functions a lot, before long you will understand exactly how they work and even know how to create your own, but for now just think of them as a way to *ask* Python to do some work.  In the cell is known as **calling** the *type* function.  Functions have a name followed by left parenthesis, a data item and end with a right parenthesis."
      ]
    },
    {
      "cell_type": "code",
      "execution_count": null,
      "id": "112bf20b-79c2-43cd-9524-ed3fcd5ff9e0",
      "metadata": {
        "colab": {
          "base_uri": "https://localhost:8080/"
        },
        "id": "112bf20b-79c2-43cd-9524-ed3fcd5ff9e0",
        "outputId": "66a12d5d-0e95-4b26-b884-3fc06fc46fd3"
      },
      "outputs": [
        {
          "output_type": "execute_result",
          "data": {
            "text/plain": [
              "int"
            ]
          },
          "metadata": {},
          "execution_count": 11
        }
      ],
      "source": [
        "type(3)"
      ]
    },
    {
      "cell_type": "code",
      "source": [
        "type(3.0)"
      ],
      "metadata": {
        "colab": {
          "base_uri": "https://localhost:8080/"
        },
        "id": "NNoF3T2e0z5L",
        "outputId": "ea081ad9-4cda-457c-e468-64c0696e6071"
      },
      "id": "NNoF3T2e0z5L",
      "execution_count": null,
      "outputs": [
        {
          "output_type": "execute_result",
          "data": {
            "text/plain": [
              "float"
            ]
          },
          "metadata": {},
          "execution_count": 12
        }
      ]
    },
    {
      "cell_type": "code",
      "source": [
        "type('3')"
      ],
      "metadata": {
        "colab": {
          "base_uri": "https://localhost:8080/"
        },
        "id": "EjMcnnz102AF",
        "outputId": "a6f0b32f-046f-4801-b68f-9cd4bd133741"
      },
      "id": "EjMcnnz102AF",
      "execution_count": null,
      "outputs": [
        {
          "output_type": "execute_result",
          "data": {
            "text/plain": [
              "str"
            ]
          },
          "metadata": {},
          "execution_count": 13
        }
      ]
    },
    {
      "cell_type": "code",
      "source": [
        "type('3.0')"
      ],
      "metadata": {
        "colab": {
          "base_uri": "https://localhost:8080/"
        },
        "id": "VT_ri8Vg05IQ",
        "outputId": "60535dc1-e00f-4d9c-d1ed-60087999f8a1"
      },
      "id": "VT_ri8Vg05IQ",
      "execution_count": null,
      "outputs": [
        {
          "output_type": "execute_result",
          "data": {
            "text/plain": [
              "str"
            ]
          },
          "metadata": {},
          "execution_count": 14
        }
      ]
    },
    {
      "cell_type": "markdown",
      "id": "2dda7b13-5322-4cb2-9984-7707075fb87f",
      "metadata": {
        "tags": [],
        "id": "2dda7b13-5322-4cb2-9984-7707075fb87f"
      },
      "source": [
        "What are the different types?  Here is a simple table, we will expand on this later.\n",
        "\n",
        "| Data Type | Python Expressions | Description                   | Example |\n",
        "|-----------|--------------------|-------------------------------|---------|\n",
        "|integer    | int                | A whole numeber               | 143267  |\n",
        "|decimal    | float              | A floating point number       | 3.13159 |\n",
        "|string     | str                | Set of characters in quotes   | \"Hello\" |\n",
        "|boolean    | bool               | anything evaluates true/false | True    |\n",
        "|List       | list               | An ordered list of values     | [1,4,5] |\n",
        "\n",
        "\n",
        "\n",
        "### How do we store values?\n",
        "\n",
        "To be useful we need a way to store values in computer's memory.  To this we need to be able to identify a location in memory.  We could use a memory address but that could get confusing, instead we given the location a name, and identifier.  In programming we call this a variable.  A ***variable*** is the name given to a part of the computers memory, designed to store aprticular data item.  It is called a variable because the value stored may change or vary as the program executes. The values we typed in above are know as literals. A **literal** is a constant whose *name* is the written representaiton of the value.  A ***constant*** is a data item with a name amd a value that will remian the same during the executation of a program.  We will use constants later.\n",
        "\n",
        "To store a value, we create a variable and then assign the value.  To assign  a value we use the equals (**=**) sign."
      ]
    },
    {
      "cell_type": "code",
      "execution_count": null,
      "id": "1a4fdd7b-c2b2-4be3-be60-98fcb3da27d9",
      "metadata": {
        "colab": {
          "base_uri": "https://localhost:8080/"
        },
        "id": "1a4fdd7b-c2b2-4be3-be60-98fcb3da27d9",
        "outputId": "cb9eebd8-d426-425f-a208-7f0a3b2d1b5a"
      },
      "outputs": [
        {
          "output_type": "execute_result",
          "data": {
            "text/plain": [
              "22"
            ]
          },
          "metadata": {},
          "execution_count": 15
        }
      ],
      "source": [
        "age=22\n",
        "age"
      ]
    },
    {
      "cell_type": "markdown",
      "id": "0a2fb99e-a477-4f13-ae2e-510eab3e3d44",
      "metadata": {
        "id": "0a2fb99e-a477-4f13-ae2e-510eab3e3d44"
      },
      "source": [
        "What is the type of a variable?  We can use the type() function to find out.\n",
        "> Notice how we can use a *variable* just like we use a *value* in the above cells"
      ]
    },
    {
      "cell_type": "code",
      "execution_count": null,
      "id": "41ca8219-83d6-4aca-92bf-3835fdaa19fb",
      "metadata": {
        "colab": {
          "base_uri": "https://localhost:8080/"
        },
        "id": "41ca8219-83d6-4aca-92bf-3835fdaa19fb",
        "outputId": "db74184c-9ad0-4bf2-eeda-df76193897ca"
      },
      "outputs": [
        {
          "output_type": "execute_result",
          "data": {
            "text/plain": [
              "int"
            ]
          },
          "metadata": {},
          "execution_count": 18
        }
      ],
      "source": [
        "type(age)"
      ]
    },
    {
      "cell_type": "markdown",
      "id": "56ca1fd8-bddf-4bd7-af91-6487badc429f",
      "metadata": {
        "id": "56ca1fd8-bddf-4bd7-af91-6487badc429f"
      },
      "source": [
        "We can assigned group items to variables"
      ]
    },
    {
      "cell_type": "code",
      "execution_count": null,
      "id": "237a9327-373d-4224-92cf-8d922aa873a5",
      "metadata": {
        "colab": {
          "base_uri": "https://localhost:8080/"
        },
        "id": "237a9327-373d-4224-92cf-8d922aa873a5",
        "outputId": "3ea38ce2-7c83-4da7-fd96-2c2b35fb64f5"
      },
      "outputs": [
        {
          "output_type": "execute_result",
          "data": {
            "text/plain": [
              "[1, 2, 3, 4, 5, 6]"
            ]
          },
          "metadata": {},
          "execution_count": 19
        }
      ],
      "source": [
        "hats=[1,2,3,4,5,6]\n",
        "hats"
      ]
    },
    {
      "cell_type": "markdown",
      "id": "277f56d4-e52a-411d-8cae-5d0a84abde80",
      "metadata": {
        "id": "277f56d4-e52a-411d-8cae-5d0a84abde80"
      },
      "source": [
        "We can change a varialbe"
      ]
    },
    {
      "cell_type": "code",
      "execution_count": null,
      "id": "0256c9c6-fe19-43e6-8945-bff88804d457",
      "metadata": {
        "colab": {
          "base_uri": "https://localhost:8080/"
        },
        "id": "0256c9c6-fe19-43e6-8945-bff88804d457",
        "outputId": "c3beab36-aa44-4129-d58f-b30f3d4237af"
      },
      "outputs": [
        {
          "output_type": "execute_result",
          "data": {
            "text/plain": [
              "24"
            ]
          },
          "metadata": {},
          "execution_count": 23
        }
      ],
      "source": [
        "age"
      ]
    },
    {
      "cell_type": "code",
      "source": [
        "age=23\n",
        "age"
      ],
      "metadata": {
        "colab": {
          "base_uri": "https://localhost:8080/"
        },
        "id": "Oy1JW8fg1jwk",
        "outputId": "d94b7f8e-9a8f-4e28-f82e-1a2dba21cc10"
      },
      "id": "Oy1JW8fg1jwk",
      "execution_count": null,
      "outputs": [
        {
          "output_type": "execute_result",
          "data": {
            "text/plain": [
              "23"
            ]
          },
          "metadata": {},
          "execution_count": 21
        }
      ]
    },
    {
      "cell_type": "code",
      "source": [
        "age=24"
      ],
      "metadata": {
        "id": "byMpLYX51neH"
      },
      "id": "byMpLYX51neH",
      "execution_count": null,
      "outputs": []
    },
    {
      "cell_type": "markdown",
      "id": "257d6ae7-d4bf-4c75-aae3-800511733978",
      "metadata": {
        "tags": [],
        "id": "257d6ae7-d4bf-4c75-aae3-800511733978"
      },
      "source": [
        "#### Naming rules\n",
        "\n",
        "Variable names must be unique and they are case sensitive.\n",
        "* Only letters, numbers, and the underscore character (_) can be used  ```this.is.not.allowed```\n",
        "* No spaces ```this is not allowed```\n",
        "* No quotes ```“NotAllowed”```\n",
        "* Can’t start with a number ```6notAllowed```\n",
        "* Can't be a keyword  ```import```\n",
        "\n",
        "#### Naming conventions\n",
        "We will learn other naming conventions, but for now\n",
        "* variable names should be meaningfuly (can someone else understand)\n",
        "* seperate words with underscores ```monthly_sales```  (this is called snake_case)\n",
        "\n",
        "\n",
        "\n",
        "# Perform Operations\n",
        "\n",
        "There are six basic computer operations.\n",
        "\n",
        "1. Receive Informaiton.\n",
        "1. Output information.\n",
        "1. Assign a value to a variable. There are three cases where you may assign a value to variable.\n",
        "    * give data an initial value.\n",
        "    * assign a value as a results of some processing\n",
        "    * to keep a piece of information for later use.\n",
        "1. Perform arithmetic.\n",
        "1. Compare two variables and select appropriate action.\n",
        "1. Repeat a group of actions.\n",
        "\n",
        "> When designing an algorithm you need to keep in mind that the set of instruction written will eventually be performed by a computer.  That is your words and phrases in the pseudocode which are in line with computer operations, the translation form pseudocode to specific programming language becomes quite simple.\n",
        "\n",
        "## Receive Information\n",
        "\n",
        "Python has a *input* function that will allow you to enter information form the keyboard."
      ]
    },
    {
      "cell_type": "code",
      "execution_count": null,
      "id": "a92584fc-fa5c-4941-b747-b042849cb114",
      "metadata": {
        "colab": {
          "base_uri": "https://localhost:8080/",
          "height": 52
        },
        "id": "a92584fc-fa5c-4941-b747-b042849cb114",
        "outputId": "930c7825-8699-4a78-a58e-12eb4f849eb8"
      },
      "outputs": [
        {
          "name": "stdout",
          "output_type": "stream",
          "text": [
            "What is your name?Yudishen\n"
          ]
        },
        {
          "output_type": "execute_result",
          "data": {
            "text/plain": [
              "'Yudishen'"
            ],
            "application/vnd.google.colaboratory.intrinsic+json": {
              "type": "string"
            }
          },
          "metadata": {},
          "execution_count": 25
        }
      ],
      "source": [
        "input('What is your name? ')"
      ]
    },
    {
      "cell_type": "markdown",
      "id": "fb98df5c-aaba-47c6-b210-a69c413ed123",
      "metadata": {
        "id": "fb98df5c-aaba-47c6-b210-a69c413ed123"
      },
      "source": [
        "How does *input* work?\n",
        "1. The interpreter see the call to the *input* function, it take the prompt text and displays it for the user\n",
        "2. The interpreter then waits for the user to type in a repsonse, which the user completes by pressing the return key (also called the enter key)\n",
        "3. Finally the text the user types in is passed back to your code.\n",
        "\n",
        "Now, the text isint going to be useful if we cant remember it for later.  To do this we store the *return value* to a variable"
      ]
    },
    {
      "cell_type": "code",
      "execution_count": null,
      "id": "5636b5db-1114-40bb-a88f-47874c11890e",
      "metadata": {
        "colab": {
          "base_uri": "https://localhost:8080/",
          "height": 52
        },
        "id": "5636b5db-1114-40bb-a88f-47874c11890e",
        "outputId": "9f7bfdc0-d789-490e-cbef-f6f55735f4a6"
      },
      "outputs": [
        {
          "name": "stdout",
          "output_type": "stream",
          "text": [
            "What is your name? Yudishen\n"
          ]
        },
        {
          "output_type": "execute_result",
          "data": {
            "text/plain": [
              "'Yudishen'"
            ],
            "application/vnd.google.colaboratory.intrinsic+json": {
              "type": "string"
            }
          },
          "metadata": {},
          "execution_count": 26
        }
      ],
      "source": [
        "name = input('What is your name? ')\n",
        "name"
      ]
    },
    {
      "cell_type": "markdown",
      "id": "25087e0c-c18a-4478-b79a-01fbcefb8bc9",
      "metadata": {
        "id": "25087e0c-c18a-4478-b79a-01fbcefb8bc9"
      },
      "source": [
        "## Output Information\n",
        "\n",
        "Python has a *print* function that can output a message to the screen"
      ]
    },
    {
      "cell_type": "code",
      "execution_count": null,
      "id": "f600bbf8-e6d3-44f3-8301-86952bf50156",
      "metadata": {
        "colab": {
          "base_uri": "https://localhost:8080/"
        },
        "id": "f600bbf8-e6d3-44f3-8301-86952bf50156",
        "outputId": "23fd7874-1626-4bbb-c14a-bfde76987361"
      },
      "outputs": [
        {
          "output_type": "stream",
          "name": "stdout",
          "text": [
            "This is a message\n"
          ]
        }
      ],
      "source": [
        "print('This is a message')"
      ]
    },
    {
      "cell_type": "markdown",
      "id": "5964a396-2596-47ba-b7b9-ca950cc6fa52",
      "metadata": {
        "id": "5964a396-2596-47ba-b7b9-ca950cc6fa52"
      },
      "source": [
        "The interpreter sees the call to the *print* function, it takes the message text and displys it to the user.\n",
        "\n",
        "Can we print variables?"
      ]
    },
    {
      "cell_type": "code",
      "execution_count": null,
      "id": "d09bdd9a-f5f0-426e-baf6-3d20472f19a5",
      "metadata": {
        "colab": {
          "base_uri": "https://localhost:8080/"
        },
        "id": "d09bdd9a-f5f0-426e-baf6-3d20472f19a5",
        "outputId": "271b4d90-1494-4724-8a1c-e848a8e909a0"
      },
      "outputs": [
        {
          "output_type": "stream",
          "name": "stdout",
          "text": [
            "22\n",
            "Yudishen\n",
            "24\n",
            "[1, 2, 3, 4, 5, 6]\n"
          ]
        }
      ],
      "source": [
        "print(22)\n",
        "print(name)\n",
        "print(age)\n",
        "print(hats)"
      ]
    },
    {
      "cell_type": "markdown",
      "id": "77cb490e-4c83-4073-97b2-0c8ca66f0158",
      "metadata": {
        "id": "77cb490e-4c83-4073-97b2-0c8ca66f0158"
      },
      "source": [
        "As you can see the *print* function will take a **literial** or a **variable**.  We will see later that the *print* function can do more, but this is a good start.\n",
        "\n",
        "## Assign a value to a variable\n",
        "\n",
        "We have seen each of three cases, but I will repeat here for clarity.\n",
        "\n",
        "I have added some *comments* to the code.  Comments are just notes after the **#** marks.  We use comments to explain the purpose of the code.  Comments can be thought of as helpful pseudocode."
      ]
    },
    {
      "cell_type": "code",
      "execution_count": null,
      "id": "9311e0b3-9933-4839-8263-a8c963bcef03",
      "metadata": {
        "colab": {
          "base_uri": "https://localhost:8080/"
        },
        "id": "9311e0b3-9933-4839-8263-a8c963bcef03",
        "outputId": "ef138a11-168f-47c1-bc7d-d0d4d2d8d9a6"
      },
      "outputs": [
        {
          "output_type": "stream",
          "name": "stdout",
          "text": [
            "What is your name? Yudishen\n",
            "Yudishen 22 years old\n"
          ]
        }
      ],
      "source": [
        "# example of giving a variable an initial value\n",
        "age = 22\n",
        "\n",
        "# example of assigning a value as a result of some processing\n",
        "name = input('What is your name? ')\n",
        "\n",
        "# example of using a piece of information later\n",
        "print(name, age, 'years old')"
      ]
    },
    {
      "cell_type": "markdown",
      "id": "7882c412-459a-413f-aed8-44bd52789a47",
      "metadata": {
        "id": "7882c412-459a-413f-aed8-44bd52789a47"
      },
      "source": [
        "## Perform Arithmetic\n",
        "\n",
        "\n",
        "| Operation | Description           | Example       |  Result  |\n",
        "|:---------:|-----------------------|---------------|----------|\n",
        "| ```+```   | Addition              | ```3 + 2.2``` | ```5.2```|\n",
        "| ```-```   | Subtraction           | ```5 - 2```   | ```3```  |\n",
        "| ```*```   | Multiplication        | ```3 * 8```   | ```24``` |\n",
        "| ```**```  | Raise to the power of | ```3 ** 2```  | ```9```  |\n",
        "| ```/```   | Division              | ```5/2```     | ```2.5```|\n",
        "| ```//```  | Integer Division      | ```5/2```     | ```2```  |\n",
        "| ```%```   | Modulo                | ```5%2```     | ```1```  |\n",
        "\n",
        "Use the cell below to try out some of the examples"
      ]
    },
    {
      "cell_type": "code",
      "execution_count": null,
      "id": "4f02a3c4-92df-4b56-9699-8627467a6e14",
      "metadata": {
        "colab": {
          "base_uri": "https://localhost:8080/"
        },
        "id": "4f02a3c4-92df-4b56-9699-8627467a6e14",
        "outputId": "25242c43-d187-4e3a-adc3-82246b4ad50f"
      },
      "outputs": [
        {
          "output_type": "execute_result",
          "data": {
            "text/plain": [
              "5.2"
            ]
          },
          "metadata": {},
          "execution_count": 43
        }
      ],
      "source": [
        "3 + 2.2 "
      ]
    },
    {
      "cell_type": "code",
      "source": [
        "5/2"
      ],
      "metadata": {
        "colab": {
          "base_uri": "https://localhost:8080/"
        },
        "id": "_cCf2RSo5nS2",
        "outputId": "1eafd01a-7903-4309-d727-7fe274d4ae9a"
      },
      "id": "_cCf2RSo5nS2",
      "execution_count": null,
      "outputs": [
        {
          "output_type": "execute_result",
          "data": {
            "text/plain": [
              "2.5"
            ]
          },
          "metadata": {},
          "execution_count": 46
        }
      ]
    },
    {
      "cell_type": "markdown",
      "id": "26d55bd3-e43b-4bb4-b0f9-cc3c46152ea0",
      "metadata": {
        "id": "26d55bd3-e43b-4bb4-b0f9-cc3c46152ea0"
      },
      "source": [
        "```3 + 2.2``` is called an expression.  When you evaluate an expression you can store the result into a variable"
      ]
    },
    {
      "cell_type": "code",
      "execution_count": null,
      "id": "b9db7b35-3936-48a4-b3ae-957fc9ac6468",
      "metadata": {
        "colab": {
          "base_uri": "https://localhost:8080/"
        },
        "id": "b9db7b35-3936-48a4-b3ae-957fc9ac6468",
        "outputId": "4fc7ddae-77ce-47f4-88aa-bff295bad0fc"
      },
      "outputs": [
        {
          "output_type": "stream",
          "name": "stdout",
          "text": [
            "5.2\n"
          ]
        }
      ],
      "source": [
        "result = 3 + 2.2\n",
        "print(result)"
      ]
    },
    {
      "cell_type": "markdown",
      "id": "37f7414e-0a5f-42ba-9e21-e37ab1e1a27e",
      "metadata": {
        "id": "37f7414e-0a5f-42ba-9e21-e37ab1e1a27e"
      },
      "source": [
        "You can print expresisons"
      ]
    },
    {
      "cell_type": "code",
      "execution_count": null,
      "id": "9bb15522-6a92-40a1-b83e-571081a9b66d",
      "metadata": {
        "colab": {
          "base_uri": "https://localhost:8080/"
        },
        "id": "9bb15522-6a92-40a1-b83e-571081a9b66d",
        "outputId": "5facd006-ab3c-428e-a04e-0be13e705efb"
      },
      "outputs": [
        {
          "output_type": "stream",
          "name": "stdout",
          "text": [
            "2.5\n"
          ]
        }
      ],
      "source": [
        "print(5/2)"
      ]
    },
    {
      "cell_type": "markdown",
      "id": "99c9524a-68a8-41c9-9266-1ce1f07e39ec",
      "metadata": {
        "id": "99c9524a-68a8-41c9-9266-1ce1f07e39ec"
      },
      "source": [
        "Can perform arithmetic with variables"
      ]
    },
    {
      "cell_type": "code",
      "execution_count": null,
      "id": "1b877516-548e-4f00-88c2-d9ce1651d2c0",
      "metadata": {
        "colab": {
          "base_uri": "https://localhost:8080/"
        },
        "id": "1b877516-548e-4f00-88c2-d9ce1651d2c0",
        "outputId": "f4393861-266d-4768-c25a-97ffcf024599"
      },
      "outputs": [
        {
          "output_type": "stream",
          "name": "stdout",
          "text": [
            "5\n"
          ]
        }
      ],
      "source": [
        "number_two = 2\n",
        "number_three = 3\n",
        "total = number_two + number_three\n",
        "print(total)"
      ]
    },
    {
      "cell_type": "markdown",
      "id": "07d15980-3e1a-4a0c-8e68-599c09591dda",
      "metadata": {
        "id": "07d15980-3e1a-4a0c-8e68-599c09591dda"
      },
      "source": [
        "Lets sum two number input form the user"
      ]
    },
    {
      "cell_type": "code",
      "execution_count": null,
      "id": "3c090a42-004e-4922-bd72-ed59ff88cb53",
      "metadata": {
        "colab": {
          "base_uri": "https://localhost:8080/"
        },
        "id": "3c090a42-004e-4922-bd72-ed59ff88cb53",
        "outputId": "d9582a81-5dbf-4cf4-fde6-431bcca23495"
      },
      "outputs": [
        {
          "output_type": "stream",
          "name": "stdout",
          "text": [
            "Please input the first number? 1\n",
            "Please input the second number2\n",
            "12\n"
          ]
        }
      ],
      "source": [
        "number_two = input(\"Please input the first number? \")\n",
        "number_three = input(\"Please input the second number\")\n",
        "result = number_two + number_three\n",
        "print(result)"
      ]
    },
    {
      "cell_type": "markdown",
      "id": "9e2da386-c608-408e-9dee-af674c646c06",
      "metadata": {
        "id": "9e2da386-c608-408e-9dee-af674c646c06"
      },
      "source": [
        "What happened?  It didn't add the input, it joined(concatenated) the input.  Lets run the next two cell to investigate."
      ]
    },
    {
      "cell_type": "code",
      "execution_count": null,
      "id": "43dc5d55-891a-4667-888c-63a681ba0a26",
      "metadata": {
        "colab": {
          "base_uri": "https://localhost:8080/"
        },
        "id": "43dc5d55-891a-4667-888c-63a681ba0a26",
        "outputId": "a0ca51d0-3007-4631-b1a1-0e6fa9a8dc62"
      },
      "outputs": [
        {
          "output_type": "stream",
          "name": "stdout",
          "text": [
            "Please input the first number? 1\n",
            "<class 'str'>\n"
          ]
        }
      ],
      "source": [
        "number_two = input(\"Please input the first number? \")\n",
        "print(type(number_two))"
      ]
    },
    {
      "cell_type": "code",
      "execution_count": null,
      "id": "3abe5441-1764-49eb-9f25-ccce75269cdd",
      "metadata": {
        "id": "3abe5441-1764-49eb-9f25-ccce75269cdd"
      },
      "outputs": [],
      "source": [
        ""
      ]
    },
    {
      "cell_type": "markdown",
      "id": "2afd9f3d-c0d9-421c-bfe5-f76538b82793",
      "metadata": {
        "id": "2afd9f3d-c0d9-421c-bfe5-f76538b82793"
      },
      "source": [
        "So the data type of the variables were string.  So the *input* function must return a *str* data type.\n",
        "\n",
        "There is a way we can convert, we can use the *int* function.  So \"12\" is a string os the characters '1' followed by the character '2'.  To convert the string we use the int(\"12\"), and this will return the number 12."
      ]
    },
    {
      "cell_type": "code",
      "execution_count": null,
      "id": "c3e8c802-0638-4b59-9067-24fbb94acca6",
      "metadata": {
        "colab": {
          "base_uri": "https://localhost:8080/"
        },
        "id": "c3e8c802-0638-4b59-9067-24fbb94acca6",
        "outputId": "b47e7487-8c49-42fb-e4dc-99caca9fea52"
      },
      "outputs": [
        {
          "output_type": "execute_result",
          "data": {
            "text/plain": [
              "1234"
            ]
          },
          "metadata": {},
          "execution_count": 55
        }
      ],
      "source": [
        "int(1234)"
      ]
    },
    {
      "cell_type": "code",
      "source": [
        "number_two = input(\"Please input the first number? \")\n",
        "int_number_two =  int(number_two)\n",
        "\n",
        "number_three = input(\"Please input the second number\")\n",
        "int_number_three =  int(number_three)\n",
        "\n",
        "result = int_number_two + int_number_three\n",
        "print(result)"
      ],
      "metadata": {
        "colab": {
          "base_uri": "https://localhost:8080/"
        },
        "id": "74jhrIl08reD",
        "outputId": "a5cd1cb7-1f95-4f23-e45b-6fa01ba32fcd"
      },
      "id": "74jhrIl08reD",
      "execution_count": null,
      "outputs": [
        {
          "output_type": "stream",
          "name": "stdout",
          "text": [
            "Please input the first number? 2\n",
            "Please input the second number3\n",
            "5\n"
          ]
        }
      ]
    },
    {
      "cell_type": "code",
      "source": [
        "number_two = int(input(\"Please input the first number? \"))\n",
        "number_three = int(input(\"Please input the second number\"))\n",
        "result = int_number_two + int_number_three\n",
        "print(result)\n"
      ],
      "metadata": {
        "colab": {
          "base_uri": "https://localhost:8080/"
        },
        "id": "xI_zb8Q49tPK",
        "outputId": "fa8b433c-b885-4c06-dd61-25235879c62f"
      },
      "id": "xI_zb8Q49tPK",
      "execution_count": null,
      "outputs": [
        {
          "output_type": "stream",
          "name": "stdout",
          "text": [
            "Please input the first number? 2\n",
            "Please input the second number3\n",
            "5\n"
          ]
        }
      ]
    },
    {
      "cell_type": "markdown",
      "id": "73a4d763-46da-4c8d-a61c-3acfa8e336b5",
      "metadata": {
        "id": "73a4d763-46da-4c8d-a61c-3acfa8e336b5"
      },
      "source": [
        "## Compare Two Variables\n",
        "\n",
        "Here is a simple program prints out the maximun of two numbers.  This also demonstrates some features of the Python language.\n",
        "\n",
        "> New lines are used to separate logical statements (similar to a period at the end of a sentence).\n",
        ">\n",
        "> Whitespaces (spaces and tabs) are used to indicate which statements should be grouped together (called blocks) \n",
        ">\n",
        "> Colons (:) are used to indicate the continuation of an idea at a deeper level. \n",
        "\n",
        "Try changing the numbers, and rerun the cell.  What happens if you swap *>* for *<*?   What is *<*? We use a *relational operator* to ask a True/False question about the realtionship between two variables.  The followinf table show the relational operators used in Python. \n",
        "\n",
        "\n",
        "| Operation | Description            | Example           |  Result     |\n",
        "|:---------:|------------------------|-------------------|-------------|\n",
        "| ```<```   | Less than              | ```3 < 2```       | ```False``` |\n",
        "| ```>```   | Greater than           | ```3 > 2```       | ```True```  |\n",
        "| ```<=```  | Less than or equal     | ```3 <= 2```      | ```False``` |\n",
        "| ```>=```  | greater than or equal  | ```3 >= 2```      | ```True```  |\n",
        "| ```==```  | equal to               | ```3 == 2```      | ```False``` |\n",
        "| ```!=```  | not equal to           | ```3 != 2```      | ```True```  |\n",
        "| ```not``` | not                    | ```not(3 == 2)``` | ```True```  |"
      ]
    },
    {
      "cell_type": "code",
      "execution_count": 6,
      "id": "b51f5001-2df5-42d1-99e8-850a4994048a",
      "metadata": {
        "id": "b51f5001-2df5-42d1-99e8-850a4994048a",
        "colab": {
          "base_uri": "https://localhost:8080/"
        },
        "outputId": "b7cdee0b-7068-4605-fc56-600666619472"
      },
      "outputs": [
        {
          "output_type": "stream",
          "name": "stdout",
          "text": [
            "first number is larger\n"
          ]
        }
      ],
      "source": [
        "first_number = 3\n",
        "second_number = 2\n",
        "\n",
        "if first_number < second_number:\n",
        "  print(\"first number is smaller\")\n",
        "else:\n",
        "  print(\"first number is larger\") "
      ]
    },
    {
      "cell_type": "markdown",
      "source": [
        "If the first number is larger then outcome will be\"first is larger\" or \"the second number is larger\""
      ],
      "metadata": {
        "id": "2e2P9kp9_EzZ"
      },
      "id": "2e2P9kp9_EzZ"
    },
    {
      "cell_type": "markdown",
      "id": "3f2fd3f9-31d2-49a1-84bc-9b71fe393a77",
      "metadata": {
        "id": "3f2fd3f9-31d2-49a1-84bc-9b71fe393a77"
      },
      "source": [
        "Notice the keyword are highlighted in a different colour.  This example uses a boolean expresison: ```first_number > second_number```.  A boolean expression is an *epxression* the evaluates to *True* or *False*.  The expresiosn uses a *relational operator*.  \n",
        "\n",
        " Can you write a version that prompts the user for the numbers?  What happens if you enter in the same number?"
      ]
    },
    {
      "cell_type": "code",
      "execution_count": 8,
      "id": "137a88a9-e2eb-4ace-b1cc-b7fdf260941e",
      "metadata": {
        "id": "137a88a9-e2eb-4ace-b1cc-b7fdf260941e",
        "colab": {
          "base_uri": "https://localhost:8080/"
        },
        "outputId": "a8f1bead-8e5a-4bb6-ea62-f9ac2100ab03"
      },
      "outputs": [
        {
          "output_type": "stream",
          "name": "stdout",
          "text": [
            "first number is larger\n"
          ]
        }
      ],
      "source": [
        "if first_number < second_number:\n",
        "  print(\"first number is smaller\")\n",
        "\n",
        "if first_number > second_number:\n",
        "  print(\"first number is larger\")"
      ]
    },
    {
      "cell_type": "code",
      "execution_count": null,
      "id": "7eb27a8b-f622-456b-9a87-bd9a3073ec30",
      "metadata": {
        "id": "7eb27a8b-f622-456b-9a87-bd9a3073ec30"
      },
      "outputs": [],
      "source": [
        ""
      ]
    },
    {
      "cell_type": "markdown",
      "id": "54c8ec64-39d6-4e96-afb1-d36615f738bb",
      "metadata": {
        "id": "54c8ec64-39d6-4e96-afb1-d36615f738bb"
      },
      "source": [
        "#### Repeat a group of actions\n",
        "\n",
        "Lets say I want to print out a countdown.  I could do a print statement for each."
      ]
    },
    {
      "cell_type": "code",
      "execution_count": null,
      "id": "9e953c23-894f-48e8-a2ed-981e5e698af2",
      "metadata": {
        "id": "9e953c23-894f-48e8-a2ed-981e5e698af2"
      },
      "outputs": [],
      "source": [
        "print(10)\n",
        "print(9)\n",
        "print(8)\n",
        "print(7)\n",
        "print(6)\n",
        "print(5)\n",
        "print(4)\n",
        "print(3)\n",
        "print(2)\n",
        "print(1)\n",
        "print(\"Blast Off!\")"
      ]
    },
    {
      "cell_type": "markdown",
      "id": "eda408c4-53ac-4250-8982-4b96f62e75d8",
      "metadata": {
        "id": "eda408c4-53ac-4250-8982-4b96f62e75d8"
      },
      "source": [
        "Notice that each line is very similar, a print statement, and just printing out a different number.\n",
        "\n",
        "It turns out, repeating something is very common in programming and all languages provide way to do this easier.  In Python we can use the *for* loop. We will use a list of numbers.  Recall in Python a *list* is ordered.   There are other way to do this, but this notebook is to just give us a understanding.  We will explore loops in more detail in later notebooks."
      ]
    },
    {
      "cell_type": "code",
      "execution_count": 17,
      "id": "ca532d99-2994-46f4-a3a8-64506790c51a",
      "metadata": {
        "id": "ca532d99-2994-46f4-a3a8-64506790c51a",
        "colab": {
          "base_uri": "https://localhost:8080/"
        },
        "outputId": "223c0b2e-b27a-4d26-b562-91efbaea177c"
      },
      "outputs": [
        {
          "output_type": "stream",
          "name": "stdout",
          "text": [
            "10\n",
            "9\n",
            "8\n",
            "7\n",
            "6\n",
            "5\n",
            "4\n",
            "3\n",
            "2\n",
            "1\n",
            "Blast Off!\n"
          ]
        }
      ],
      "source": [
        "for count in [10,9,8,7,6,5,4,3,2,1]:\n",
        "  print(count)\n",
        "print(\"Blast Off!\")\n",
        "  "
      ]
    },
    {
      "cell_type": "code",
      "source": [
        ""
      ],
      "metadata": {
        "id": "b_2GVV9ZAu2J"
      },
      "id": "b_2GVV9ZAu2J",
      "execution_count": null,
      "outputs": []
    }
  ],
  "metadata": {
    "kernelspec": {
      "display_name": "Python 3 (ipykernel)",
      "language": "python",
      "name": "python3"
    },
    "language_info": {
      "codemirror_mode": {
        "name": "ipython",
        "version": 3
      },
      "file_extension": ".py",
      "mimetype": "text/x-python",
      "name": "python",
      "nbconvert_exporter": "python",
      "pygments_lexer": "ipython3",
      "version": "3.9.6"
    },
    "colab": {
      "name": "a_taste_of_python_(2).ipynb",
      "provenance": [],
      "include_colab_link": true
    }
  },
  "nbformat": 4,
  "nbformat_minor": 5
}