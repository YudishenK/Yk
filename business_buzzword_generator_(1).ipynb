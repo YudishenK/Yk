{
  "cells": [
    {
      "cell_type": "markdown",
      "metadata": {
        "id": "view-in-github",
        "colab_type": "text"
      },
      "source": [
        "<a href=\"https://colab.research.google.com/github/YudishenK/Yk/blob/main/business_buzzword_generator_(1).ipynb\" target=\"_parent\"><img src=\"https://colab.research.google.com/assets/colab-badge.svg\" alt=\"Open In Colab\"/></a>"
      ]
    },
    {
      "cell_type": "markdown",
      "id": "f8b21259-c1a0-4ecb-a02f-e35565841067",
      "metadata": {
        "id": "f8b21259-c1a0-4ecb-a02f-e35565841067"
      },
      "source": [
        "# Business Buzzword Generator\n",
        "\n",
        "Lets write a real-world business-like application using Python!\n",
        "\n",
        "Want to write a program to generate business phrases.  These could be used as\n",
        "title for presentation, podcast, video, article or just for fun.\n",
        "\n",
        "## Task 0 - Import to GitHub\n",
        "\n",
        "In a browser:\n",
        "* Login to Google\n",
        "* Login to GitHub\n",
        "* Import notebook into Colab\n",
        "* Save to GitHub. Don't forget the commit message.\n",
        "* Complete the tasks saving regularly to GitHub\n",
        "\n",
        "## Task 1 - Convert to Python!\n",
        "\n",
        "As you go through the task, keep in mind our 5-step development process:\n",
        "* State the Problem Clearly\n",
        "* Describe the input and Output\n",
        "* Work a simple example by hand\n",
        "* Develop an algorithm (and convert to Python)\n",
        "* Test solution with a variety of data\n",
        "\n",
        "For this notebook, steps 1-4 have been completed and you only need to convert \n",
        "the supplied pseudocode into Python.\n",
        "\n",
        "The program uses three lists of words. Randomly picks one word from each list \n",
        "and combines the words into a phrase.  Then print out the phrase. Here is \n",
        "the pseudocode:\n",
        "\n",
        "    importing the random module\n",
        "    make three lists, one of buzzword, one of actions, and one of outcomes\n",
        "    randomly choose one buzzword, action, and outcome from each list\n",
        "    now build the phrase by \"adding\" the words together\n",
        "    output the phrase\n",
        "\n",
        "\n",
        "A good way to use pseudocode is make each line(s) a comment(s) in the code. \n",
        "\n",
        "Each line of pseudo code has been pasted into a cell below.  \n",
        "\n",
        "Try to implement each as python statement or statements."
      ]
    },
    {
      "cell_type": "code",
      "execution_count": 13,
      "id": "6b9a2fc6-f8ae-4778-a5e7-9659136091fd",
      "metadata": {
        "id": "6b9a2fc6-f8ae-4778-a5e7-9659136091fd"
      },
      "outputs": [],
      "source": [
        "# importing the random module\n",
        "import random"
      ]
    },
    {
      "cell_type": "code",
      "execution_count": 14,
      "id": "52db4e24-c2e3-46f2-8a96-0fece1f437f2",
      "metadata": {
        "id": "52db4e24-c2e3-46f2-8a96-0fece1f437f2"
      },
      "outputs": [],
      "source": [
        "#  make three lists, one of buzzwords, one of actions, and one of outcomes\n",
        "# Realise Effective Sketches,Create Propper Alignment,Master Professional Coding\n",
        "listbuzzwords = ['Realise', 'Create', 'Master']\n",
        "listactions = ['Effective', 'Propper', 'Professional']\n",
        "listoutcomes = ['Sketches', 'Alignment', 'Coding']"
      ]
    },
    {
      "cell_type": "code",
      "execution_count": 15,
      "id": "2538b8fa-1dc9-4bfd-84d8-6753b9a88218",
      "metadata": {
        "id": "2538b8fa-1dc9-4bfd-84d8-6753b9a88218"
      },
      "outputs": [],
      "source": [
        "# randomly choose one buzzword, action, and outcome from each list\n",
        "buzzword = random.choice(listbuzzwords)\n",
        "action = random.choice(listactions)\n",
        "outcome = random.choice(listoutcomes)"
      ]
    },
    {
      "cell_type": "code",
      "execution_count": 16,
      "id": "95c40fea-40d0-49e6-afe5-c181da731368",
      "metadata": {
        "id": "95c40fea-40d0-49e6-afe5-c181da731368"
      },
      "outputs": [],
      "source": [
        "# build the phrase by \"adding\" the words together\n",
        "phrase = buzzword + \" \" + action + \" \" + outcome"
      ]
    },
    {
      "cell_type": "code",
      "execution_count": 17,
      "id": "3e36c71d-ef4b-40d5-ac7f-a7717460e28f",
      "metadata": {
        "colab": {
          "base_uri": "https://localhost:8080/"
        },
        "id": "3e36c71d-ef4b-40d5-ac7f-a7717460e28f",
        "outputId": "43407ef2-8a73-404c-f0af-dfe1277abbed"
      },
      "outputs": [
        {
          "output_type": "stream",
          "name": "stdout",
          "text": [
            "Realise Professional Coding\n"
          ]
        }
      ],
      "source": [
        "# output the phrase\n",
        "print(phrase)"
      ]
    },
    {
      "cell_type": "code",
      "source": [
        "# importing the random module\n",
        "import random\n",
        "#  make three lists, one of buzzwords, one of actions, and one of outcomes\n",
        "# Realise Effective Sketches,Create Propper Alignment,Master Professional Coding\n",
        "listbuzzwords = ['Realise', 'Create', 'Master']\n",
        "listactions = ['Effective', 'Propper', 'Professional']\n",
        "listoutcomes = ['Sketches', 'Alignment', 'Coding']\n",
        "# randomly choose one buzzword, action, and outcome from each list\n",
        "buzzword = random.choice(listbuzzwords)\n",
        "action = random.choice(listactions)\n",
        "outcome = random.choice(listoutcomes)\n",
        "# build the phrase by \"adding\" the words together\n",
        "phrase = buzzword + \" \" + action + \" \" + outcome\n",
        "# output the phrase\n",
        "print(phrase)"
      ],
      "metadata": {
        "colab": {
          "base_uri": "https://localhost:8080/"
        },
        "id": "3jEdTOfxLN_V",
        "outputId": "ca3e2f80-5217-4e0f-b598-42df7aa5ea94"
      },
      "id": "3jEdTOfxLN_V",
      "execution_count": 20,
      "outputs": [
        {
          "output_type": "stream",
          "name": "stdout",
          "text": [
            "Create Effective Alignment\n"
          ]
        }
      ]
    },
    {
      "cell_type": "markdown",
      "id": "5c5d439f",
      "metadata": {
        "id": "5c5d439f"
      },
      "source": [
        "## Task 2 (Optional) - Phrase Generator\n",
        "\n",
        "This task is optional.  For this task, lets think about way we could extend\n",
        "the program.  Here are some question to think about.  No Python code is needed.\n",
        "Thinking is probably enough, but if you want you can write a couple of \n",
        "sentences on what you think is required.\n",
        "* Can it be modified to generate other types of phrases? How about three lists of ingredients, and generate simple recipes? How about and idea or project generator?\n",
        "* Why limit it to three words?  \n",
        "* Does the order of the words matter?\n",
        "* Could we create sentences? If we create sentences, could we combine them to create paragraphs? Could we specify a topic, and have the program write an essay? Would this make it 'smart'?\n"
      ]
    },
    {
      "cell_type": "code",
      "execution_count": 32,
      "id": "71838d24-05d5-44cb-ae5a-1195fd805622",
      "metadata": {
        "colab": {
          "base_uri": "https://localhost:8080/"
        },
        "id": "71838d24-05d5-44cb-ae5a-1195fd805622",
        "outputId": "9d449b7d-b816-43ff-bc0d-161b8dfa1ffc"
      },
      "outputs": [
        {
          "output_type": "stream",
          "name": "stdout",
          "text": [
            "Sketches: Realise Propper Sketches\n",
            "Spongecake after sketching: Apple Spongecake\n",
            "Realise Propper Sketches - Apple Spongecake\n"
          ]
        }
      ],
      "source": [
        "# importing the random module\n",
        "import random\n",
        "#  make three lists, one of buzzwords, one of actions, and one of outcomes\n",
        "# Realise Effective Sketches,Create Propper Alignment,Master Professional Coding\n",
        "listbuzzwords = ['Realise', 'Create', 'Master']\n",
        "listactions = ['Effective', 'Propper', 'Professional']\n",
        "listoutcomes = ['Sketches', 'Alignment', 'Coding']\n",
        "listfruits = ['Apple', 'Grape', 'Mango']\n",
        "listmenu = ['Pie', 'Jelly', 'Spongecake']\n",
        "# randomly choose one buzzword, action, and outcome from each list\n",
        "buzzword = random.choice(listbuzzwords)\n",
        "action = random.choice(listactions)\n",
        "outcome = random.choice(listoutcomes)\n",
        "fruit = random.choice(listfruits)\n",
        "menu = random.choice(listmenu)\n",
        "# build the phrase by \"adding\" the words together\n",
        "phrase = buzzword + \" \" + action + \" \" + outcome\n",
        "menuItem = fruit + \" \" + menu\n",
        "# output the phrase\n",
        "print(\"Sketches: \" + phrase)\n",
        "print(\"Spongecake after sketching: \"+ menuItem)\n",
        "print(phrase + \" - \" + menuItem)"
      ]
    }
  ],
  "metadata": {
    "kernelspec": {
      "display_name": "Python 3 (ipykernel)",
      "language": "python",
      "name": "python3"
    },
    "language_info": {
      "codemirror_mode": {
        "name": "ipython",
        "version": 3
      },
      "file_extension": ".py",
      "mimetype": "text/x-python",
      "name": "python",
      "nbconvert_exporter": "python",
      "pygments_lexer": "ipython3",
      "version": "3.9.6"
    },
    "colab": {
      "name": "business_buzzword_generator (1).ipynb",
      "provenance": [],
      "include_colab_link": true
    }
  },
  "nbformat": 4,
  "nbformat_minor": 5
}